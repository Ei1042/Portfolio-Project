{
 "cells": [
  {
   "cell_type": "markdown",
   "id": "abd7e13a-457a-4fbd-a4f5-cd873bb0c924",
   "metadata": {},
   "source": [
    "# Gender Classification Analysis"
   ]
  },
  {
   "cell_type": "markdown",
   "id": "2f9463b9-98ce-4715-8d30-49d722112879",
   "metadata": {},
   "source": [
    "## Importing libraries"
   ]
  },
  {
   "cell_type": "code",
   "execution_count": 1,
   "id": "260c4495-bf71-4b16-8ae7-3def2d56eda4",
   "metadata": {},
   "outputs": [],
   "source": [
    "import pandas as pd\n",
    "import matplotlib.pyplot as plt"
   ]
  },
  {
   "cell_type": "code",
   "execution_count": 2,
   "id": "c9f307d8-68bd-481f-a798-22c5ff8c5817",
   "metadata": {},
   "outputs": [
    {
     "data": {
      "text/plain": [
       "['Solarize_Light2',\n",
       " '_classic_test_patch',\n",
       " '_mpl-gallery',\n",
       " '_mpl-gallery-nogrid',\n",
       " 'bmh',\n",
       " 'classic',\n",
       " 'dark_background',\n",
       " 'fast',\n",
       " 'fivethirtyeight',\n",
       " 'ggplot',\n",
       " 'grayscale',\n",
       " 'seaborn-v0_8',\n",
       " 'seaborn-v0_8-bright',\n",
       " 'seaborn-v0_8-colorblind',\n",
       " 'seaborn-v0_8-dark',\n",
       " 'seaborn-v0_8-dark-palette',\n",
       " 'seaborn-v0_8-darkgrid',\n",
       " 'seaborn-v0_8-deep',\n",
       " 'seaborn-v0_8-muted',\n",
       " 'seaborn-v0_8-notebook',\n",
       " 'seaborn-v0_8-paper',\n",
       " 'seaborn-v0_8-pastel',\n",
       " 'seaborn-v0_8-poster',\n",
       " 'seaborn-v0_8-talk',\n",
       " 'seaborn-v0_8-ticks',\n",
       " 'seaborn-v0_8-white',\n",
       " 'seaborn-v0_8-whitegrid',\n",
       " 'tableau-colorblind10']"
      ]
     },
     "execution_count": 2,
     "metadata": {},
     "output_type": "execute_result"
    }
   ],
   "source": [
    "plt.style.available"
   ]
  },
  {
   "cell_type": "markdown",
   "id": "247061f9-8b88-4a7a-82be-1b03cae48111",
   "metadata": {},
   "source": [
    "## Loading files"
   ]
  },
  {
   "cell_type": "code",
   "execution_count": 3,
   "id": "9c8a3d71-0c6f-4abf-939a-1f35a2c7b1b1",
   "metadata": {},
   "outputs": [
    {
     "data": {
      "text/html": [
       "<div>\n",
       "<style scoped>\n",
       "    .dataframe tbody tr th:only-of-type {\n",
       "        vertical-align: middle;\n",
       "    }\n",
       "\n",
       "    .dataframe tbody tr th {\n",
       "        vertical-align: top;\n",
       "    }\n",
       "\n",
       "    .dataframe thead th {\n",
       "        text-align: right;\n",
       "    }\n",
       "</style>\n",
       "<table border=\"1\" class=\"dataframe\">\n",
       "  <thead>\n",
       "    <tr style=\"text-align: right;\">\n",
       "      <th></th>\n",
       "      <th>Favorite Color</th>\n",
       "      <th>Favorite Music Genre</th>\n",
       "      <th>Favorite Beverage</th>\n",
       "      <th>Favorite Soft Drink</th>\n",
       "      <th>Gender</th>\n",
       "    </tr>\n",
       "  </thead>\n",
       "  <tbody>\n",
       "    <tr>\n",
       "      <th>0</th>\n",
       "      <td>Cool</td>\n",
       "      <td>Rock</td>\n",
       "      <td>Vodka</td>\n",
       "      <td>7UP/Sprite</td>\n",
       "      <td>F</td>\n",
       "    </tr>\n",
       "    <tr>\n",
       "      <th>1</th>\n",
       "      <td>Neutral</td>\n",
       "      <td>Hip hop</td>\n",
       "      <td>Vodka</td>\n",
       "      <td>Coca Cola/Pepsi</td>\n",
       "      <td>F</td>\n",
       "    </tr>\n",
       "    <tr>\n",
       "      <th>2</th>\n",
       "      <td>Warm</td>\n",
       "      <td>Rock</td>\n",
       "      <td>Wine</td>\n",
       "      <td>Coca Cola/Pepsi</td>\n",
       "      <td>F</td>\n",
       "    </tr>\n",
       "    <tr>\n",
       "      <th>3</th>\n",
       "      <td>Warm</td>\n",
       "      <td>Folk/Traditional</td>\n",
       "      <td>Whiskey</td>\n",
       "      <td>Fanta</td>\n",
       "      <td>F</td>\n",
       "    </tr>\n",
       "    <tr>\n",
       "      <th>4</th>\n",
       "      <td>Cool</td>\n",
       "      <td>Rock</td>\n",
       "      <td>Vodka</td>\n",
       "      <td>Coca Cola/Pepsi</td>\n",
       "      <td>F</td>\n",
       "    </tr>\n",
       "  </tbody>\n",
       "</table>\n",
       "</div>"
      ],
      "text/plain": [
       "  Favorite Color Favorite Music Genre Favorite Beverage Favorite Soft Drink  \\\n",
       "0           Cool                 Rock             Vodka          7UP/Sprite   \n",
       "1        Neutral              Hip hop             Vodka     Coca Cola/Pepsi   \n",
       "2           Warm                 Rock              Wine     Coca Cola/Pepsi   \n",
       "3           Warm     Folk/Traditional           Whiskey               Fanta   \n",
       "4           Cool                 Rock             Vodka     Coca Cola/Pepsi   \n",
       "\n",
       "  Gender  \n",
       "0      F  \n",
       "1      F  \n",
       "2      F  \n",
       "3      F  \n",
       "4      F  "
      ]
     },
     "execution_count": 3,
     "metadata": {},
     "output_type": "execute_result"
    }
   ],
   "source": [
    "gender_m = pd.read_csv(\"Gender-classification-F.csv\")\n",
    "gender_m.head()"
   ]
  },
  {
   "cell_type": "code",
   "execution_count": 4,
   "id": "f533fb8e-1fa7-4421-b736-4c35efdc6030",
   "metadata": {},
   "outputs": [
    {
     "data": {
      "text/html": [
       "<div>\n",
       "<style scoped>\n",
       "    .dataframe tbody tr th:only-of-type {\n",
       "        vertical-align: middle;\n",
       "    }\n",
       "\n",
       "    .dataframe tbody tr th {\n",
       "        vertical-align: top;\n",
       "    }\n",
       "\n",
       "    .dataframe thead th {\n",
       "        text-align: right;\n",
       "    }\n",
       "</style>\n",
       "<table border=\"1\" class=\"dataframe\">\n",
       "  <thead>\n",
       "    <tr style=\"text-align: right;\">\n",
       "      <th></th>\n",
       "      <th>Favorite Color</th>\n",
       "      <th>Favorite Music Genre</th>\n",
       "      <th>Favorite Beverage</th>\n",
       "      <th>Favorite Soft Drink</th>\n",
       "      <th>Gender</th>\n",
       "    </tr>\n",
       "  </thead>\n",
       "  <tbody>\n",
       "    <tr>\n",
       "      <th>0</th>\n",
       "      <td>Warm</td>\n",
       "      <td>R&amp;B and soul</td>\n",
       "      <td>Wine</td>\n",
       "      <td>Other</td>\n",
       "      <td>M</td>\n",
       "    </tr>\n",
       "    <tr>\n",
       "      <th>1</th>\n",
       "      <td>Neutral</td>\n",
       "      <td>Hip hop</td>\n",
       "      <td>Beer</td>\n",
       "      <td>7UP/Sprite</td>\n",
       "      <td>M</td>\n",
       "    </tr>\n",
       "    <tr>\n",
       "      <th>2</th>\n",
       "      <td>Warm</td>\n",
       "      <td>Electronic</td>\n",
       "      <td>Other</td>\n",
       "      <td>Coca Cola/Pepsi</td>\n",
       "      <td>M</td>\n",
       "    </tr>\n",
       "    <tr>\n",
       "      <th>3</th>\n",
       "      <td>Neutral</td>\n",
       "      <td>Rock</td>\n",
       "      <td>NaN</td>\n",
       "      <td>Coca Cola/Pepsi</td>\n",
       "      <td>M</td>\n",
       "    </tr>\n",
       "    <tr>\n",
       "      <th>4</th>\n",
       "      <td>Cool</td>\n",
       "      <td>Pop</td>\n",
       "      <td>Other</td>\n",
       "      <td>Fanta</td>\n",
       "      <td>M</td>\n",
       "    </tr>\n",
       "  </tbody>\n",
       "</table>\n",
       "</div>"
      ],
      "text/plain": [
       "  Favorite Color Favorite Music Genre Favorite Beverage Favorite Soft Drink  \\\n",
       "0           Warm         R&B and soul              Wine               Other   \n",
       "1        Neutral              Hip hop              Beer          7UP/Sprite   \n",
       "2           Warm           Electronic             Other     Coca Cola/Pepsi   \n",
       "3        Neutral                 Rock               NaN     Coca Cola/Pepsi   \n",
       "4           Cool                  Pop             Other               Fanta   \n",
       "\n",
       "  Gender  \n",
       "0      M  \n",
       "1      M  \n",
       "2      M  \n",
       "3      M  \n",
       "4      M  "
      ]
     },
     "execution_count": 4,
     "metadata": {},
     "output_type": "execute_result"
    }
   ],
   "source": [
    "gender_f = pd.read_csv(\"Gender-classification-M.csv\")\n",
    "gender_f.head()"
   ]
  },
  {
   "cell_type": "markdown",
   "id": "f01dbce6-b92c-4656-9e3f-2f6e624b7ca9",
   "metadata": {},
   "source": [
    "## Combining the two tables into one"
   ]
  },
  {
   "cell_type": "code",
   "execution_count": 5,
   "id": "35fa9cb8-4eb4-4e30-bf8c-a9f786e8e95b",
   "metadata": {},
   "outputs": [
    {
     "data": {
      "text/html": [
       "<div>\n",
       "<style scoped>\n",
       "    .dataframe tbody tr th:only-of-type {\n",
       "        vertical-align: middle;\n",
       "    }\n",
       "\n",
       "    .dataframe tbody tr th {\n",
       "        vertical-align: top;\n",
       "    }\n",
       "\n",
       "    .dataframe thead th {\n",
       "        text-align: right;\n",
       "    }\n",
       "</style>\n",
       "<table border=\"1\" class=\"dataframe\">\n",
       "  <thead>\n",
       "    <tr style=\"text-align: right;\">\n",
       "      <th></th>\n",
       "      <th>Favorite Color</th>\n",
       "      <th>Favorite Music Genre</th>\n",
       "      <th>Favorite Beverage</th>\n",
       "      <th>Favorite Soft Drink</th>\n",
       "      <th>Gender</th>\n",
       "    </tr>\n",
       "  </thead>\n",
       "  <tbody>\n",
       "    <tr>\n",
       "      <th>0</th>\n",
       "      <td>Cool</td>\n",
       "      <td>Rock</td>\n",
       "      <td>Vodka</td>\n",
       "      <td>7UP/Sprite</td>\n",
       "      <td>F</td>\n",
       "    </tr>\n",
       "    <tr>\n",
       "      <th>1</th>\n",
       "      <td>Neutral</td>\n",
       "      <td>Hip hop</td>\n",
       "      <td>Vodka</td>\n",
       "      <td>Coca Cola/Pepsi</td>\n",
       "      <td>F</td>\n",
       "    </tr>\n",
       "    <tr>\n",
       "      <th>2</th>\n",
       "      <td>Warm</td>\n",
       "      <td>Rock</td>\n",
       "      <td>Wine</td>\n",
       "      <td>Coca Cola/Pepsi</td>\n",
       "      <td>F</td>\n",
       "    </tr>\n",
       "    <tr>\n",
       "      <th>3</th>\n",
       "      <td>Warm</td>\n",
       "      <td>Folk/Traditional</td>\n",
       "      <td>Whiskey</td>\n",
       "      <td>Fanta</td>\n",
       "      <td>F</td>\n",
       "    </tr>\n",
       "    <tr>\n",
       "      <th>4</th>\n",
       "      <td>Cool</td>\n",
       "      <td>Rock</td>\n",
       "      <td>Vodka</td>\n",
       "      <td>Coca Cola/Pepsi</td>\n",
       "      <td>F</td>\n",
       "    </tr>\n",
       "    <tr>\n",
       "      <th>...</th>\n",
       "      <td>...</td>\n",
       "      <td>...</td>\n",
       "      <td>...</td>\n",
       "      <td>...</td>\n",
       "      <td>...</td>\n",
       "    </tr>\n",
       "    <tr>\n",
       "      <th>67</th>\n",
       "      <td>Cool</td>\n",
       "      <td>Rock</td>\n",
       "      <td>Wine</td>\n",
       "      <td>Coca Cola/Pepsi</td>\n",
       "      <td>M</td>\n",
       "    </tr>\n",
       "    <tr>\n",
       "      <th>68</th>\n",
       "      <td>Cool</td>\n",
       "      <td>Electronic</td>\n",
       "      <td>Beer</td>\n",
       "      <td>Coca Cola/Pepsi</td>\n",
       "      <td>M</td>\n",
       "    </tr>\n",
       "    <tr>\n",
       "      <th>69</th>\n",
       "      <td>NaN</td>\n",
       "      <td>NaN</td>\n",
       "      <td>NaN</td>\n",
       "      <td>NaN</td>\n",
       "      <td>NaN</td>\n",
       "    </tr>\n",
       "    <tr>\n",
       "      <th>70</th>\n",
       "      <td>Warm</td>\n",
       "      <td>Rock</td>\n",
       "      <td>Vodka</td>\n",
       "      <td>7UP/Sprite</td>\n",
       "      <td>M</td>\n",
       "    </tr>\n",
       "    <tr>\n",
       "      <th>71</th>\n",
       "      <td>Warm</td>\n",
       "      <td>Folk/Traditional</td>\n",
       "      <td>Other</td>\n",
       "      <td>Fanta</td>\n",
       "      <td>M</td>\n",
       "    </tr>\n",
       "  </tbody>\n",
       "</table>\n",
       "<p>72 rows × 5 columns</p>\n",
       "</div>"
      ],
      "text/plain": [
       "   Favorite Color Favorite Music Genre Favorite Beverage Favorite Soft Drink  \\\n",
       "0            Cool                 Rock             Vodka          7UP/Sprite   \n",
       "1         Neutral              Hip hop             Vodka     Coca Cola/Pepsi   \n",
       "2            Warm                 Rock              Wine     Coca Cola/Pepsi   \n",
       "3            Warm     Folk/Traditional           Whiskey               Fanta   \n",
       "4            Cool                 Rock             Vodka     Coca Cola/Pepsi   \n",
       "..            ...                  ...               ...                 ...   \n",
       "67           Cool                 Rock              Wine     Coca Cola/Pepsi   \n",
       "68           Cool           Electronic              Beer     Coca Cola/Pepsi   \n",
       "69            NaN                  NaN               NaN                 NaN   \n",
       "70           Warm                 Rock             Vodka          7UP/Sprite   \n",
       "71           Warm     Folk/Traditional             Other               Fanta   \n",
       "\n",
       "   Gender  \n",
       "0       F  \n",
       "1       F  \n",
       "2       F  \n",
       "3       F  \n",
       "4       F  \n",
       "..    ...  \n",
       "67      M  \n",
       "68      M  \n",
       "69    NaN  \n",
       "70      M  \n",
       "71      M  \n",
       "\n",
       "[72 rows x 5 columns]"
      ]
     },
     "execution_count": 5,
     "metadata": {},
     "output_type": "execute_result"
    }
   ],
   "source": [
    "gender_class = pd.concat([gender_m, gender_f], ignore_index=True)\n",
    "gender_class"
   ]
  },
  {
   "cell_type": "markdown",
   "id": "5e8e71e3-684e-4955-9661-63fdc96f4d73",
   "metadata": {},
   "source": [
    "## Cleaning up the datas"
   ]
  },
  {
   "cell_type": "code",
   "execution_count": 6,
   "id": "438b346d-c4f0-43c8-bed4-c65c0a3ff301",
   "metadata": {},
   "outputs": [
    {
     "name": "stdout",
     "output_type": "stream",
     "text": [
      "<class 'pandas.core.frame.DataFrame'>\n",
      "RangeIndex: 72 entries, 0 to 71\n",
      "Data columns (total 5 columns):\n",
      " #   Column                Non-Null Count  Dtype \n",
      "---  ------                --------------  ----- \n",
      " 0   Favorite Color        70 non-null     object\n",
      " 1   Favorite Music Genre  70 non-null     object\n",
      " 2   Favorite Beverage     56 non-null     object\n",
      " 3   Favorite Soft Drink   70 non-null     object\n",
      " 4   Gender                70 non-null     object\n",
      "dtypes: object(5)\n",
      "memory usage: 2.9+ KB\n"
     ]
    }
   ],
   "source": [
    "# Checking data's info\n",
    "\n",
    "gender_class.info()"
   ]
  },
  {
   "cell_type": "code",
   "execution_count": 7,
   "id": "b3da31fb-b473-4579-a76a-d6902332ba6b",
   "metadata": {},
   "outputs": [],
   "source": [
    "gender_class = gender_class.dropna(how=\"all\")"
   ]
  },
  {
   "cell_type": "code",
   "execution_count": 8,
   "id": "a402a8ef-526e-44d9-9c55-7f4295f81711",
   "metadata": {},
   "outputs": [
    {
     "data": {
      "text/html": [
       "<div>\n",
       "<style scoped>\n",
       "    .dataframe tbody tr th:only-of-type {\n",
       "        vertical-align: middle;\n",
       "    }\n",
       "\n",
       "    .dataframe tbody tr th {\n",
       "        vertical-align: top;\n",
       "    }\n",
       "\n",
       "    .dataframe thead th {\n",
       "        text-align: right;\n",
       "    }\n",
       "</style>\n",
       "<table border=\"1\" class=\"dataframe\">\n",
       "  <thead>\n",
       "    <tr style=\"text-align: right;\">\n",
       "      <th></th>\n",
       "      <th>Favorite Color</th>\n",
       "      <th>Favorite Music Genre</th>\n",
       "      <th>Favorite Beverage</th>\n",
       "      <th>Favorite Soft Drink</th>\n",
       "      <th>Gender</th>\n",
       "    </tr>\n",
       "  </thead>\n",
       "  <tbody>\n",
       "    <tr>\n",
       "      <th>5</th>\n",
       "      <td>Warm</td>\n",
       "      <td>Jazz/Blues</td>\n",
       "      <td>NaN</td>\n",
       "      <td>Fanta</td>\n",
       "      <td>F</td>\n",
       "    </tr>\n",
       "    <tr>\n",
       "      <th>19</th>\n",
       "      <td>Cool</td>\n",
       "      <td>Pop</td>\n",
       "      <td>NaN</td>\n",
       "      <td>7UP/Sprite</td>\n",
       "      <td>F</td>\n",
       "    </tr>\n",
       "    <tr>\n",
       "      <th>27</th>\n",
       "      <td>Cool</td>\n",
       "      <td>Pop</td>\n",
       "      <td>NaN</td>\n",
       "      <td>Other</td>\n",
       "      <td>F</td>\n",
       "    </tr>\n",
       "    <tr>\n",
       "      <th>28</th>\n",
       "      <td>Cool</td>\n",
       "      <td>Pop</td>\n",
       "      <td>NaN</td>\n",
       "      <td>Coca Cola/Pepsi</td>\n",
       "      <td>F</td>\n",
       "    </tr>\n",
       "    <tr>\n",
       "      <th>29</th>\n",
       "      <td>Cool</td>\n",
       "      <td>Electronic</td>\n",
       "      <td>NaN</td>\n",
       "      <td>Fanta</td>\n",
       "      <td>F</td>\n",
       "    </tr>\n",
       "    <tr>\n",
       "      <th>39</th>\n",
       "      <td>Neutral</td>\n",
       "      <td>Rock</td>\n",
       "      <td>NaN</td>\n",
       "      <td>Coca Cola/Pepsi</td>\n",
       "      <td>M</td>\n",
       "    </tr>\n",
       "    <tr>\n",
       "      <th>44</th>\n",
       "      <td>Neutral</td>\n",
       "      <td>Pop</td>\n",
       "      <td>NaN</td>\n",
       "      <td>7UP/Sprite</td>\n",
       "      <td>M</td>\n",
       "    </tr>\n",
       "    <tr>\n",
       "      <th>45</th>\n",
       "      <td>Warm</td>\n",
       "      <td>R&amp;B and soul</td>\n",
       "      <td>NaN</td>\n",
       "      <td>Coca Cola/Pepsi</td>\n",
       "      <td>M</td>\n",
       "    </tr>\n",
       "    <tr>\n",
       "      <th>51</th>\n",
       "      <td>Cool</td>\n",
       "      <td>Rock</td>\n",
       "      <td>NaN</td>\n",
       "      <td>Other</td>\n",
       "      <td>M</td>\n",
       "    </tr>\n",
       "    <tr>\n",
       "      <th>53</th>\n",
       "      <td>Cool</td>\n",
       "      <td>R&amp;B and soul</td>\n",
       "      <td>NaN</td>\n",
       "      <td>Coca Cola/Pepsi</td>\n",
       "      <td>M</td>\n",
       "    </tr>\n",
       "    <tr>\n",
       "      <th>54</th>\n",
       "      <td>Cool</td>\n",
       "      <td>Rock</td>\n",
       "      <td>NaN</td>\n",
       "      <td>Coca Cola/Pepsi</td>\n",
       "      <td>M</td>\n",
       "    </tr>\n",
       "    <tr>\n",
       "      <th>55</th>\n",
       "      <td>Cool</td>\n",
       "      <td>Hip hop</td>\n",
       "      <td>NaN</td>\n",
       "      <td>Other</td>\n",
       "      <td>M</td>\n",
       "    </tr>\n",
       "    <tr>\n",
       "      <th>57</th>\n",
       "      <td>Cool</td>\n",
       "      <td>Electronic</td>\n",
       "      <td>NaN</td>\n",
       "      <td>Fanta</td>\n",
       "      <td>M</td>\n",
       "    </tr>\n",
       "    <tr>\n",
       "      <th>66</th>\n",
       "      <td>Neutral</td>\n",
       "      <td>Hip hop</td>\n",
       "      <td>NaN</td>\n",
       "      <td>Fanta</td>\n",
       "      <td>M</td>\n",
       "    </tr>\n",
       "  </tbody>\n",
       "</table>\n",
       "</div>"
      ],
      "text/plain": [
       "   Favorite Color Favorite Music Genre Favorite Beverage Favorite Soft Drink  \\\n",
       "5            Warm           Jazz/Blues               NaN               Fanta   \n",
       "19           Cool                  Pop               NaN          7UP/Sprite   \n",
       "27           Cool                  Pop               NaN               Other   \n",
       "28           Cool                  Pop               NaN     Coca Cola/Pepsi   \n",
       "29           Cool           Electronic               NaN               Fanta   \n",
       "39        Neutral                 Rock               NaN     Coca Cola/Pepsi   \n",
       "44        Neutral                  Pop               NaN          7UP/Sprite   \n",
       "45           Warm         R&B and soul               NaN     Coca Cola/Pepsi   \n",
       "51           Cool                 Rock               NaN               Other   \n",
       "53           Cool         R&B and soul               NaN     Coca Cola/Pepsi   \n",
       "54           Cool                 Rock               NaN     Coca Cola/Pepsi   \n",
       "55           Cool              Hip hop               NaN               Other   \n",
       "57           Cool           Electronic               NaN               Fanta   \n",
       "66        Neutral              Hip hop               NaN               Fanta   \n",
       "\n",
       "   Gender  \n",
       "5       F  \n",
       "19      F  \n",
       "27      F  \n",
       "28      F  \n",
       "29      F  \n",
       "39      M  \n",
       "44      M  \n",
       "45      M  \n",
       "51      M  \n",
       "53      M  \n",
       "54      M  \n",
       "55      M  \n",
       "57      M  \n",
       "66      M  "
      ]
     },
     "execution_count": 8,
     "metadata": {},
     "output_type": "execute_result"
    }
   ],
   "source": [
    "gender_class[gender_class[\"Favorite Beverage\"].isnull()]"
   ]
  },
  {
   "cell_type": "code",
   "execution_count": 9,
   "id": "111eef44-7513-4a0d-9610-dd32b498ffac",
   "metadata": {},
   "outputs": [
    {
     "name": "stderr",
     "output_type": "stream",
     "text": [
      "C:\\Users\\User\\AppData\\Local\\Temp\\ipykernel_9772\\4192296095.py:3: SettingWithCopyWarning: \n",
      "A value is trying to be set on a copy of a slice from a DataFrame.\n",
      "Try using .loc[row_indexer,col_indexer] = value instead\n",
      "\n",
      "See the caveats in the documentation: https://pandas.pydata.org/pandas-docs/stable/user_guide/indexing.html#returning-a-view-versus-a-copy\n",
      "  gender_class[\"Favorite Beverage\"] = gender_class[\"Favorite Beverage\"].fillna(value=\"doesn't drink\")\n"
     ]
    }
   ],
   "source": [
    "# Replacing null values as doesn't drink\n",
    "\n",
    "gender_class[\"Favorite Beverage\"] = gender_class[\"Favorite Beverage\"].fillna(value=\"doesn't drink\")"
   ]
  },
  {
   "cell_type": "code",
   "execution_count": 10,
   "id": "4fc1b746-dc48-4e92-80fd-04e9ba9cdba3",
   "metadata": {},
   "outputs": [
    {
     "data": {
      "text/html": [
       "<div>\n",
       "<style scoped>\n",
       "    .dataframe tbody tr th:only-of-type {\n",
       "        vertical-align: middle;\n",
       "    }\n",
       "\n",
       "    .dataframe tbody tr th {\n",
       "        vertical-align: top;\n",
       "    }\n",
       "\n",
       "    .dataframe thead th {\n",
       "        text-align: right;\n",
       "    }\n",
       "</style>\n",
       "<table border=\"1\" class=\"dataframe\">\n",
       "  <thead>\n",
       "    <tr style=\"text-align: right;\">\n",
       "      <th></th>\n",
       "      <th>Favorite Color</th>\n",
       "      <th>Favorite Music Genre</th>\n",
       "      <th>Favorite Beverage</th>\n",
       "      <th>Favorite Soft Drink</th>\n",
       "      <th>Gender</th>\n",
       "    </tr>\n",
       "  </thead>\n",
       "  <tbody>\n",
       "  </tbody>\n",
       "</table>\n",
       "</div>"
      ],
      "text/plain": [
       "Empty DataFrame\n",
       "Columns: [Favorite Color, Favorite Music Genre, Favorite Beverage, Favorite Soft Drink, Gender]\n",
       "Index: []"
      ]
     },
     "execution_count": 10,
     "metadata": {},
     "output_type": "execute_result"
    }
   ],
   "source": [
    "# Checking whether the values are correctly filled\n",
    "\n",
    "gender_class[gender_class[\"Favorite Beverage\"].isnull()]"
   ]
  },
  {
   "cell_type": "code",
   "execution_count": 11,
   "id": "310c4baf-3de1-4152-b033-0d7f0cbfe8e0",
   "metadata": {},
   "outputs": [
    {
     "data": {
      "text/plain": [
       "Favorite Color          object\n",
       "Favorite Music Genre    object\n",
       "Favorite Beverage       object\n",
       "Favorite Soft Drink     object\n",
       "Gender                  object\n",
       "dtype: object"
      ]
     },
     "execution_count": 11,
     "metadata": {},
     "output_type": "execute_result"
    }
   ],
   "source": [
    "# Checking data types\n",
    "\n",
    "gender_class.dtypes"
   ]
  },
  {
   "cell_type": "code",
   "execution_count": 12,
   "id": "0b97ab8f-3df6-4ed6-8c60-91826eb7941c",
   "metadata": {},
   "outputs": [
    {
     "name": "stderr",
     "output_type": "stream",
     "text": [
      "C:\\Users\\User\\AppData\\Local\\Temp\\ipykernel_9772\\871324500.py:3: SettingWithCopyWarning: \n",
      "A value is trying to be set on a copy of a slice from a DataFrame.\n",
      "Try using .loc[row_indexer,col_indexer] = value instead\n",
      "\n",
      "See the caveats in the documentation: https://pandas.pydata.org/pandas-docs/stable/user_guide/indexing.html#returning-a-view-versus-a-copy\n",
      "  gender_class[\"Gender\"] = gender_class[\"Gender\"].astype(\"category\")\n"
     ]
    }
   ],
   "source": [
    "# Changing data type\n",
    "\n",
    "gender_class[\"Gender\"] = gender_class[\"Gender\"].astype(\"category\")"
   ]
  },
  {
   "cell_type": "code",
   "execution_count": 13,
   "id": "8b9fadad-0a11-4e95-864d-312ffca1bc54",
   "metadata": {},
   "outputs": [
    {
     "data": {
      "text/plain": [
       "Favorite Color          3\n",
       "Favorite Music Genre    7\n",
       "Favorite Beverage       6\n",
       "Favorite Soft Drink     4\n",
       "Gender                  2\n",
       "dtype: int64"
      ]
     },
     "execution_count": 13,
     "metadata": {},
     "output_type": "execute_result"
    }
   ],
   "source": [
    "gender_class.nunique()"
   ]
  },
  {
   "cell_type": "code",
   "execution_count": 14,
   "id": "10685670-a21f-4033-a7a6-0610561d5a78",
   "metadata": {},
   "outputs": [
    {
     "data": {
      "text/html": [
       "<div>\n",
       "<style scoped>\n",
       "    .dataframe tbody tr th:only-of-type {\n",
       "        vertical-align: middle;\n",
       "    }\n",
       "\n",
       "    .dataframe tbody tr th {\n",
       "        vertical-align: top;\n",
       "    }\n",
       "\n",
       "    .dataframe thead th {\n",
       "        text-align: right;\n",
       "    }\n",
       "</style>\n",
       "<table border=\"1\" class=\"dataframe\">\n",
       "  <thead>\n",
       "    <tr style=\"text-align: right;\">\n",
       "      <th></th>\n",
       "      <th>Favorite Color</th>\n",
       "      <th>Favorite Music Genre</th>\n",
       "      <th>Favorite Beverage</th>\n",
       "      <th>Favorite Soft Drink</th>\n",
       "      <th>Gender</th>\n",
       "    </tr>\n",
       "  </thead>\n",
       "  <tbody>\n",
       "    <tr>\n",
       "      <th>0</th>\n",
       "      <td>Cool</td>\n",
       "      <td>Rock</td>\n",
       "      <td>Vodka</td>\n",
       "      <td>7UP/Sprite</td>\n",
       "      <td>F</td>\n",
       "    </tr>\n",
       "    <tr>\n",
       "      <th>1</th>\n",
       "      <td>Neutral</td>\n",
       "      <td>Hip hop</td>\n",
       "      <td>Vodka</td>\n",
       "      <td>Coca Cola/Pepsi</td>\n",
       "      <td>F</td>\n",
       "    </tr>\n",
       "    <tr>\n",
       "      <th>2</th>\n",
       "      <td>Warm</td>\n",
       "      <td>Rock</td>\n",
       "      <td>Wine</td>\n",
       "      <td>Coca Cola/Pepsi</td>\n",
       "      <td>F</td>\n",
       "    </tr>\n",
       "    <tr>\n",
       "      <th>3</th>\n",
       "      <td>Warm</td>\n",
       "      <td>Folk/Traditional</td>\n",
       "      <td>Whiskey</td>\n",
       "      <td>Fanta</td>\n",
       "      <td>F</td>\n",
       "    </tr>\n",
       "    <tr>\n",
       "      <th>4</th>\n",
       "      <td>Cool</td>\n",
       "      <td>Rock</td>\n",
       "      <td>Vodka</td>\n",
       "      <td>Coca Cola/Pepsi</td>\n",
       "      <td>F</td>\n",
       "    </tr>\n",
       "    <tr>\n",
       "      <th>...</th>\n",
       "      <td>...</td>\n",
       "      <td>...</td>\n",
       "      <td>...</td>\n",
       "      <td>...</td>\n",
       "      <td>...</td>\n",
       "    </tr>\n",
       "    <tr>\n",
       "      <th>66</th>\n",
       "      <td>Neutral</td>\n",
       "      <td>Hip hop</td>\n",
       "      <td>doesn't drink</td>\n",
       "      <td>Fanta</td>\n",
       "      <td>M</td>\n",
       "    </tr>\n",
       "    <tr>\n",
       "      <th>67</th>\n",
       "      <td>Cool</td>\n",
       "      <td>Rock</td>\n",
       "      <td>Wine</td>\n",
       "      <td>Coca Cola/Pepsi</td>\n",
       "      <td>M</td>\n",
       "    </tr>\n",
       "    <tr>\n",
       "      <th>68</th>\n",
       "      <td>Cool</td>\n",
       "      <td>Electronic</td>\n",
       "      <td>Beer</td>\n",
       "      <td>Coca Cola/Pepsi</td>\n",
       "      <td>M</td>\n",
       "    </tr>\n",
       "    <tr>\n",
       "      <th>70</th>\n",
       "      <td>Warm</td>\n",
       "      <td>Rock</td>\n",
       "      <td>Vodka</td>\n",
       "      <td>7UP/Sprite</td>\n",
       "      <td>M</td>\n",
       "    </tr>\n",
       "    <tr>\n",
       "      <th>71</th>\n",
       "      <td>Warm</td>\n",
       "      <td>Folk/Traditional</td>\n",
       "      <td>Other</td>\n",
       "      <td>Fanta</td>\n",
       "      <td>M</td>\n",
       "    </tr>\n",
       "  </tbody>\n",
       "</table>\n",
       "<p>70 rows × 5 columns</p>\n",
       "</div>"
      ],
      "text/plain": [
       "   Favorite Color Favorite Music Genre Favorite Beverage Favorite Soft Drink  \\\n",
       "0            Cool                 Rock             Vodka          7UP/Sprite   \n",
       "1         Neutral              Hip hop             Vodka     Coca Cola/Pepsi   \n",
       "2            Warm                 Rock              Wine     Coca Cola/Pepsi   \n",
       "3            Warm     Folk/Traditional           Whiskey               Fanta   \n",
       "4            Cool                 Rock             Vodka     Coca Cola/Pepsi   \n",
       "..            ...                  ...               ...                 ...   \n",
       "66        Neutral              Hip hop     doesn't drink               Fanta   \n",
       "67           Cool                 Rock              Wine     Coca Cola/Pepsi   \n",
       "68           Cool           Electronic              Beer     Coca Cola/Pepsi   \n",
       "70           Warm                 Rock             Vodka          7UP/Sprite   \n",
       "71           Warm     Folk/Traditional             Other               Fanta   \n",
       "\n",
       "   Gender  \n",
       "0       F  \n",
       "1       F  \n",
       "2       F  \n",
       "3       F  \n",
       "4       F  \n",
       "..    ...  \n",
       "66      M  \n",
       "67      M  \n",
       "68      M  \n",
       "70      M  \n",
       "71      M  \n",
       "\n",
       "[70 rows x 5 columns]"
      ]
     },
     "execution_count": 14,
     "metadata": {},
     "output_type": "execute_result"
    }
   ],
   "source": [
    "gender_class"
   ]
  },
  {
   "cell_type": "markdown",
   "id": "91e7f2d0-1b40-4651-ae16-db0df268328a",
   "metadata": {},
   "source": [
    "# Extracting datas"
   ]
  },
  {
   "cell_type": "code",
   "execution_count": 15,
   "id": "07d4b6b5-88f4-4e1d-a761-5ec1c8d66c56",
   "metadata": {},
   "outputs": [
    {
     "data": {
      "text/plain": [
       "Gender\n",
       "F    35\n",
       "M    35\n",
       "Name: count, dtype: int64"
      ]
     },
     "execution_count": 15,
     "metadata": {},
     "output_type": "execute_result"
    }
   ],
   "source": [
    "# What are the numbers of Male and Female?\n",
    "\n",
    "gender_class[\"Gender\"].value_counts()"
   ]
  },
  {
   "cell_type": "code",
   "execution_count": 16,
   "id": "660d104f-457d-4eb8-b4eb-f37830835f17",
   "metadata": {},
   "outputs": [
    {
     "data": {
      "text/plain": [
       "<Axes: xlabel='Gender'>"
      ]
     },
     "execution_count": 16,
     "metadata": {},
     "output_type": "execute_result"
    },
    {
     "data": {
      "image/png": "[encoded data removed]",
      "text/plain": [
       "<Figure size 640x440 with 1 Axes>"
      ]
     },
     "metadata": {},
     "output_type": "display_data"
    }
   ],
   "source": [
    "plt.style.use(\"seaborn-v0_8-paper\")\n",
    "gender_class[\"Gender\"].value_counts().plot(kind=\"bar\")"
   ]
  },
  {
   "cell_type": "code",
   "execution_count": 22,
   "id": "207e3b92-af2d-4e25-83a1-feacf38fd50e",
   "metadata": {},
   "outputs": [
    {
     "name": "stderr",
     "output_type": "stream",
     "text": [
      "C:\\Users\\User\\AppData\\Local\\Temp\\ipykernel_9772\\3344300600.py:1: FutureWarning: The default of observed=False is deprecated and will be changed to True in a future version of pandas. Pass observed=False to retain current behavior or observed=True to adopt the future default and silence this warning.\n",
      "  gender_class.groupby(\"Gender\")[\"Favorite Color\"].value_counts()\n"
     ]
    },
    {
     "data": {
      "text/plain": [
       "Gender  Favorite Color\n",
       "F       Cool              17\n",
       "        Warm              15\n",
       "        Neutral            3\n",
       "M       Cool              20\n",
       "        Warm              11\n",
       "        Neutral            4\n",
       "Name: count, dtype: int64"
      ]
     },
     "execution_count": 22,
     "metadata": {},
     "output_type": "execute_result"
    }
   ],
   "source": [
    "# How many proportion of female and male like different color?\n",
    "\n",
    "gender_class.groupby(\"Gender\")[\"Favorite Color\"].value_counts()"
   ]
  },
  {
   "cell_type": "code",
   "execution_count": 27,
   "id": "38bedad6-5518-44c1-b711-4a26ca04cab4",
   "metadata": {},
   "outputs": [
    {
     "name": "stderr",
     "output_type": "stream",
     "text": [
      "C:\\Users\\User\\AppData\\Local\\Temp\\ipykernel_9772\\998122190.py:1: FutureWarning: The default of observed=False is deprecated and will be changed to True in a future version of pandas. Pass observed=False to retain current behavior or observed=True to adopt the future default and silence this warning.\n",
      "  gender_class.groupby(\"Gender\")[\"Favorite Color\"].value_counts().plot(kind=\"bar\")\n"
     ]
    },
    {
     "data": {
      "text/plain": [
       "<Axes: xlabel='Gender,Favorite Color'>"
      ]
     },
     "execution_count": 27,
     "metadata": {},
     "output_type": "execute_result"
    },
    {
     "data": {
      "image/png": "[encoded data removed]",
      "text/plain": [
       "<Figure size 640x440 with 1 Axes>"
      ]
     },
     "metadata": {},
     "output_type": "display_data"
    }
   ],
   "source": [
    "gender_class.groupby(\"Gender\")[\"Favorite Color\"].value_counts().plot(kind=\"bar\")"
   ]
  },
  {
   "cell_type": "code",
   "execution_count": 28,
   "id": "7dddbabb-4420-4a93-acb4-c03c8579e144",
   "metadata": {},
   "outputs": [
    {
     "data": {
      "text/plain": [
       "Favorite Music Genre\n",
       "Rock                21\n",
       "Pop                 18\n",
       "Hip hop              8\n",
       "Electronic           8\n",
       "R&B and soul         6\n",
       "Folk/Traditional     5\n",
       "Jazz/Blues           4\n",
       "Name: count, dtype: int64"
      ]
     },
     "execution_count": 28,
     "metadata": {},
     "output_type": "execute_result"
    }
   ],
   "source": [
    "# The different taste of music between male and female\n",
    "\n",
    "gender_class[\"Favorite Music Genre\"].value_counts()"
   ]
  },
  {
   "cell_type": "code",
   "execution_count": 62,
   "id": "d2b3cab5-6937-451c-a7ef-fc6359f7f7ad",
   "metadata": {},
   "outputs": [
    {
     "data": {
      "text/plain": [
       "<Axes: ylabel='count'>"
      ]
     },
     "execution_count": 62,
     "metadata": {},
     "output_type": "execute_result"
    },
    {
     "data": {
      "image/png": "[encoded data removed]",
      "text/plain": [
       "<Figure size 640x440 with 1 Axes>"
      ]
     },
     "metadata": {},
     "output_type": "display_data"
    }
   ],
   "source": [
    "gender_class[\"Favorite Music Genre\"].value_counts().plot(kind=\"pie\")"
   ]
  },
  {
   "cell_type": "code",
   "execution_count": 60,
   "id": "d14318ca-4155-47a1-a878-a287d4acef0b",
   "metadata": {},
   "outputs": [
    {
     "name": "stderr",
     "output_type": "stream",
     "text": [
      "C:\\Users\\User\\AppData\\Local\\Temp\\ipykernel_9772\\1032679873.py:1: FutureWarning: The default of observed=False is deprecated and will be changed to True in a future version of pandas. Pass observed=False to retain current behavior or observed=True to adopt the future default and silence this warning.\n",
      "  gender_class.groupby(\"Gender\")[\"Favorite Music Genre\"].value_counts(normalize=True)*100\n"
     ]
    },
    {
     "data": {
      "text/plain": [
       "Gender  Favorite Music Genre\n",
       "F       Pop                     40.000000\n",
       "        Rock                    31.428571\n",
       "        Jazz/Blues               8.571429\n",
       "        Electronic               5.714286\n",
       "        Folk/Traditional         5.714286\n",
       "        R&B and soul             5.714286\n",
       "        Hip hop                  2.857143\n",
       "M       Rock                    28.571429\n",
       "        Hip hop                 20.000000\n",
       "        Electronic              17.142857\n",
       "        Pop                     11.428571\n",
       "        R&B and soul            11.428571\n",
       "        Folk/Traditional         8.571429\n",
       "        Jazz/Blues               2.857143\n",
       "Name: proportion, dtype: float64"
      ]
     },
     "execution_count": 60,
     "metadata": {},
     "output_type": "execute_result"
    }
   ],
   "source": [
    "gender_class.groupby(\"Gender\")[\"Favorite Music Genre\"].value_counts(normalize=True)*100"
   ]
  },
  {
   "cell_type": "code",
   "execution_count": 56,
   "id": "080118f5-3eb0-47de-af2d-12a3a4d3d9d3",
   "metadata": {},
   "outputs": [
    {
     "name": "stderr",
     "output_type": "stream",
     "text": [
      "C:\\Users\\User\\AppData\\Local\\Temp\\ipykernel_9772\\3733803857.py:1: FutureWarning: The default of observed=False is deprecated and will be changed to True in a future version of pandas. Pass observed=False to retain current behavior or observed=True to adopt the future default and silence this warning.\n",
      "  gender_class.groupby(\"Gender\")[\"Favorite Music Genre\"].value_counts().plot(kind=\"bar\")\n"
     ]
    },
    {
     "data": {
      "text/plain": [
       "<Axes: xlabel='Gender,Favorite Music Genre'>"
      ]
     },
     "execution_count": 56,
     "metadata": {},
     "output_type": "execute_result"
    },
    {
     "data": {
      "image/png": "[encoded data removed]",
      "text/plain": [
       "<Figure size 640x440 with 1 Axes>"
      ]
     },
     "metadata": {},
     "output_type": "display_data"
    }
   ],
   "source": [
    "gender_class.groupby(\"Gender\")[\"Favorite Music Genre\"].value_counts().plot(kind=\"bar\")"
   ]
  },
  {
   "cell_type": "code",
   "execution_count": 67,
   "id": "6b3d4318-22f6-4f42-bc9f-da78447f08d2",
   "metadata": {},
   "outputs": [
    {
     "data": {
      "text/html": [
       "<div>\n",
       "<style scoped>\n",
       "    .dataframe tbody tr th:only-of-type {\n",
       "        vertical-align: middle;\n",
       "    }\n",
       "\n",
       "    .dataframe tbody tr th {\n",
       "        vertical-align: top;\n",
       "    }\n",
       "\n",
       "    .dataframe thead th {\n",
       "        text-align: right;\n",
       "    }\n",
       "</style>\n",
       "<table border=\"1\" class=\"dataframe\">\n",
       "  <thead>\n",
       "    <tr style=\"text-align: right;\">\n",
       "      <th></th>\n",
       "      <th>Favorite Color</th>\n",
       "      <th>Favorite Music Genre</th>\n",
       "      <th>Favorite Beverage</th>\n",
       "      <th>Favorite Soft Drink</th>\n",
       "      <th>Gender</th>\n",
       "    </tr>\n",
       "  </thead>\n",
       "  <tbody>\n",
       "    <tr>\n",
       "      <th>39</th>\n",
       "      <td>Neutral</td>\n",
       "      <td>Rock</td>\n",
       "      <td>doesn't drink</td>\n",
       "      <td>Coca Cola/Pepsi</td>\n",
       "      <td>M</td>\n",
       "    </tr>\n",
       "    <tr>\n",
       "      <th>44</th>\n",
       "      <td>Neutral</td>\n",
       "      <td>Pop</td>\n",
       "      <td>doesn't drink</td>\n",
       "      <td>7UP/Sprite</td>\n",
       "      <td>M</td>\n",
       "    </tr>\n",
       "    <tr>\n",
       "      <th>45</th>\n",
       "      <td>Warm</td>\n",
       "      <td>R&amp;B and soul</td>\n",
       "      <td>doesn't drink</td>\n",
       "      <td>Coca Cola/Pepsi</td>\n",
       "      <td>M</td>\n",
       "    </tr>\n",
       "    <tr>\n",
       "      <th>51</th>\n",
       "      <td>Cool</td>\n",
       "      <td>Rock</td>\n",
       "      <td>doesn't drink</td>\n",
       "      <td>Other</td>\n",
       "      <td>M</td>\n",
       "    </tr>\n",
       "    <tr>\n",
       "      <th>53</th>\n",
       "      <td>Cool</td>\n",
       "      <td>R&amp;B and soul</td>\n",
       "      <td>doesn't drink</td>\n",
       "      <td>Coca Cola/Pepsi</td>\n",
       "      <td>M</td>\n",
       "    </tr>\n",
       "    <tr>\n",
       "      <th>54</th>\n",
       "      <td>Cool</td>\n",
       "      <td>Rock</td>\n",
       "      <td>doesn't drink</td>\n",
       "      <td>Coca Cola/Pepsi</td>\n",
       "      <td>M</td>\n",
       "    </tr>\n",
       "    <tr>\n",
       "      <th>55</th>\n",
       "      <td>Cool</td>\n",
       "      <td>Hip hop</td>\n",
       "      <td>doesn't drink</td>\n",
       "      <td>Other</td>\n",
       "      <td>M</td>\n",
       "    </tr>\n",
       "    <tr>\n",
       "      <th>57</th>\n",
       "      <td>Cool</td>\n",
       "      <td>Electronic</td>\n",
       "      <td>doesn't drink</td>\n",
       "      <td>Fanta</td>\n",
       "      <td>M</td>\n",
       "    </tr>\n",
       "    <tr>\n",
       "      <th>66</th>\n",
       "      <td>Neutral</td>\n",
       "      <td>Hip hop</td>\n",
       "      <td>doesn't drink</td>\n",
       "      <td>Fanta</td>\n",
       "      <td>M</td>\n",
       "    </tr>\n",
       "  </tbody>\n",
       "</table>\n",
       "</div>"
      ],
      "text/plain": [
       "   Favorite Color Favorite Music Genre Favorite Beverage Favorite Soft Drink  \\\n",
       "39        Neutral                 Rock     doesn't drink     Coca Cola/Pepsi   \n",
       "44        Neutral                  Pop     doesn't drink          7UP/Sprite   \n",
       "45           Warm         R&B and soul     doesn't drink     Coca Cola/Pepsi   \n",
       "51           Cool                 Rock     doesn't drink               Other   \n",
       "53           Cool         R&B and soul     doesn't drink     Coca Cola/Pepsi   \n",
       "54           Cool                 Rock     doesn't drink     Coca Cola/Pepsi   \n",
       "55           Cool              Hip hop     doesn't drink               Other   \n",
       "57           Cool           Electronic     doesn't drink               Fanta   \n",
       "66        Neutral              Hip hop     doesn't drink               Fanta   \n",
       "\n",
       "   Gender  \n",
       "39      M  \n",
       "44      M  \n",
       "45      M  \n",
       "51      M  \n",
       "53      M  \n",
       "54      M  \n",
       "55      M  \n",
       "57      M  \n",
       "66      M  "
      ]
     },
     "execution_count": 67,
     "metadata": {},
     "output_type": "execute_result"
    }
   ],
   "source": [
    "# Male & Female who are non-alcohol\n",
    "\n",
    "male = gender_class[\"Gender\"] == \"M\"\n",
    "who_doesnot_drink = gender_class[\"Favorite Beverage\"] == \"doesn't drink\"\n",
    "gender_class[male & who_doesnot_drink]"
   ]
  },
  {
   "cell_type": "code",
   "execution_count": 69,
   "id": "5df6c3f5-38f4-4b40-8bd2-a5fe6d6ddd12",
   "metadata": {},
   "outputs": [
    {
     "data": {
      "text/html": [
       "<div>\n",
       "<style scoped>\n",
       "    .dataframe tbody tr th:only-of-type {\n",
       "        vertical-align: middle;\n",
       "    }\n",
       "\n",
       "    .dataframe tbody tr th {\n",
       "        vertical-align: top;\n",
       "    }\n",
       "\n",
       "    .dataframe thead th {\n",
       "        text-align: right;\n",
       "    }\n",
       "</style>\n",
       "<table border=\"1\" class=\"dataframe\">\n",
       "  <thead>\n",
       "    <tr style=\"text-align: right;\">\n",
       "      <th></th>\n",
       "      <th>Favorite Color</th>\n",
       "      <th>Favorite Music Genre</th>\n",
       "      <th>Favorite Beverage</th>\n",
       "      <th>Favorite Soft Drink</th>\n",
       "      <th>Gender</th>\n",
       "    </tr>\n",
       "  </thead>\n",
       "  <tbody>\n",
       "    <tr>\n",
       "      <th>5</th>\n",
       "      <td>Warm</td>\n",
       "      <td>Jazz/Blues</td>\n",
       "      <td>doesn't drink</td>\n",
       "      <td>Fanta</td>\n",
       "      <td>F</td>\n",
       "    </tr>\n",
       "    <tr>\n",
       "      <th>19</th>\n",
       "      <td>Cool</td>\n",
       "      <td>Pop</td>\n",
       "      <td>doesn't drink</td>\n",
       "      <td>7UP/Sprite</td>\n",
       "      <td>F</td>\n",
       "    </tr>\n",
       "    <tr>\n",
       "      <th>27</th>\n",
       "      <td>Cool</td>\n",
       "      <td>Pop</td>\n",
       "      <td>doesn't drink</td>\n",
       "      <td>Other</td>\n",
       "      <td>F</td>\n",
       "    </tr>\n",
       "    <tr>\n",
       "      <th>28</th>\n",
       "      <td>Cool</td>\n",
       "      <td>Pop</td>\n",
       "      <td>doesn't drink</td>\n",
       "      <td>Coca Cola/Pepsi</td>\n",
       "      <td>F</td>\n",
       "    </tr>\n",
       "    <tr>\n",
       "      <th>29</th>\n",
       "      <td>Cool</td>\n",
       "      <td>Electronic</td>\n",
       "      <td>doesn't drink</td>\n",
       "      <td>Fanta</td>\n",
       "      <td>F</td>\n",
       "    </tr>\n",
       "  </tbody>\n",
       "</table>\n",
       "</div>"
      ],
      "text/plain": [
       "   Favorite Color Favorite Music Genre Favorite Beverage Favorite Soft Drink  \\\n",
       "5            Warm           Jazz/Blues     doesn't drink               Fanta   \n",
       "19           Cool                  Pop     doesn't drink          7UP/Sprite   \n",
       "27           Cool                  Pop     doesn't drink               Other   \n",
       "28           Cool                  Pop     doesn't drink     Coca Cola/Pepsi   \n",
       "29           Cool           Electronic     doesn't drink               Fanta   \n",
       "\n",
       "   Gender  \n",
       "5       F  \n",
       "19      F  \n",
       "27      F  \n",
       "28      F  \n",
       "29      F  "
      ]
     },
     "execution_count": 69,
     "metadata": {},
     "output_type": "execute_result"
    }
   ],
   "source": [
    "female = gender_class[\"Gender\"] == \"F\"\n",
    "gender_class[female & who_doesnot_drink]"
   ]
  },
  {
   "cell_type": "code",
   "execution_count": null,
   "id": "4e569b0b-e860-4cb8-94b3-b2af49da494b",
   "metadata": {},
   "outputs": [],
   "source": []
  }
 ],
 "metadata": {
  "kernelspec": {
   "display_name": "Python 3 (ipykernel)",
   "language": "python",
   "name": "python3"
  },
  "language_info": {
   "codemirror_mode": {
    "name": "ipython",
    "version": 3
   },
   "file_extension": ".py",
   "mimetype": "text/x-python",
   "name": "python",
   "nbconvert_exporter": "python",
   "pygments_lexer": "ipython3",
   "version": "3.12.4"
  }
 },
 "nbformat": 4,
 "nbformat_minor": 5
}
